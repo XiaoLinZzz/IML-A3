{
 "cells": [
  {
   "attachments": {},
   "cell_type": "markdown",
   "id": "76ffa401",
   "metadata": {},
   "source": [
    "# Assignment 2: Classification and Evaluation (20 marks)\n",
    "\n",
    "Student Name: `Lujie Ma`\n",
    "\n",
    "Student ID: `1391364`\n",
    "\n",
    "## General info\n",
    "\n",
    "<b>Due date</b>: *5 pm on Friday 7th of April*\n",
    "\n",
    "<b>Submission method</b>: Canvas submission\n",
    "\n",
    "<b>Submission materials</b>: completed copy of this iPython notebook\n",
    "\n",
    "<b>Late submissions</b>: -10% per day up to 5 days (both weekdays and weekends count)\n",
    "<ul>\n",
    "    <li>one day late, -2;</li>\n",
    "    <li>two days late, -4;</li>\n",
    "    <li>three days late, -6;</li>\n",
    "    <li>four days late, -8;</li>\n",
    "    <li>five days late, -10;</li>\n",
    "</ul>\n",
    "\n",
    "<b>Marks</b>: This assignment will be marked out of 20, and make up 20% of your overall mark for this subject.\n",
    "\n",
    "<b>Materials</b>: See [Using Jupyter Notebook and Python page] on Canvas (under Modules> Coding Resources) for information on the basic setup required for this class, including an iPython notebook viewer and the python packages `numpy`, `pandas`, `matplotlib` and `sklearn`. You can use any Python built-in packages, but do not use any other 3rd party packages; if your iPython notebook doesn't run on the marker's machine, you will lose marks. <b> You should use Python 3</b>.  \n",
    "\n",
    "<b>Evaluation</b>: Your iPython notebook should run end-to-end without any errors in a reasonable amount of time, and you must follow all instructions provided below, including specific implementation requirements and instructions for what needs to be printed (please avoid printing output we don't ask for). You should edit the sections below where requested, but leave the rest of the code as is. You should leave the output from running your code in the iPython notebook you submit, to assist with marking. The amount each section is worth is given in parenthesis after the instructions. \n",
    "\n",
    "\n",
    "<b>Updates</b>: Any major changes to the assignment will be announced via Canvas. Minor changes and clarifications will be announced on Canvas>Assignments>Assignmnet1; we recommend you check it regularly.\n",
    "\n",
    "<b>Academic misconduct</b>: This assignment is an individual task, and so reuse of code or other instances of clear influence will be considered cheating. Please check the <a href=\"https://canvas.lms.unimelb.edu.au/courses/124196/modules#module_662096\">CIS Academic Honesty training</a> for more information. We will be checking submissions for originality and will invoke the University’s <a href=\"http://academichonesty.unimelb.edu.au/policy.html\">Academic Misconduct policy</a> where collusion or plagiarism are deemed to have taken place. Content produced by an AI (including, but not limited to ChatGPT) is not your own work, and submitting such content will be treated as a case of academic misconduct, in line with the <a href=\"https://academicintegrity.unimelb.edu.au/plagiarism-and-collusion/artificial-intelligence-tools-and-technologies\"> University's policy</a>.\n",
    "\n",
    "**IMPORTANT**\n",
    "\n",
    "Please carefully read and fill out the <b>Authorship Declaration</b> form at the bottom of the page. Failure to fill out this form results in the following deductions: \n",
    "<UL TYPE=”square”>\n",
    "<LI>Missing Authorship Declaration at the bottom of the page, -2.0\n",
    "<LI>Incomplete or unsigned Authorship Declaration at the bottom of the page, -1.0\n",
    "</UL>\n"
   ]
  },
  {
   "cell_type": "markdown",
   "id": "a66d47f4",
   "metadata": {},
   "source": [
    "## Overview:\n",
    "For this assignment, you will work with a provided dataset to train and utilize multiple classifiers to analyze different versions of the dataset. In addition to implementing these classifiers, you will also explore various evaluation paradigms and analyze the impact of multiple parameters on the performance of the classifiers. Finally, you will be expected to answer some conceptual questions based on your observations and analysis.\n",
    "\n",
    "## Data Set:\n",
    "In this assignment, you will work with multiple versions of one dataset called \"Amphibians.\" It is adopted from a famous public dataset, and you can find more details about it <a href= \"https://archive.ics.uci.edu/ml/datasets/Amphibians#\"> here </a>.  The dataset includes information about five groups of amphibians in Poland: \"Green frogs,\" \"Brown frogs,\" \"Common toad,\" \"Tree frog,\" and \"Fire-bellied toad.\" The dataset comprises 14 attributes and one class. Some of these attributes are numeric, some are categorical, and some are ordinal.\n",
    "\n",
    "You can find details about all the features in the dataset in the file \"README.txt\"."
   ]
  },
  {
   "cell_type": "code",
   "execution_count": 20,
   "id": "d2b26164",
   "metadata": {},
   "outputs": [],
   "source": [
    "import pandas as pd\n",
    "import numpy as np\n",
    "import matplotlib.pyplot as plt"
   ]
  },
  {
   "cell_type": "code",
   "execution_count": 21,
   "id": "afa339cc",
   "metadata": {},
   "outputs": [],
   "source": [
    "from sklearn.model_selection import train_test_split\n",
    "from sklearn.dummy import DummyClassifier\n",
    "from sklearn.tree import DecisionTreeClassifier\n",
    "from sklearn.naive_bayes import GaussianNB, MultinomialNB, BernoulliNB\n",
    "from sklearn.neighbors import KNeighborsClassifier\n",
    "from sklearn.metrics import accuracy_score\n",
    "from sklearn.metrics import classification_report"
   ]
  },
  {
   "cell_type": "code",
   "execution_count": 22,
   "id": "4d90b111-3c9f-4b4c-a0a6-413000636fc6",
   "metadata": {},
   "outputs": [],
   "source": [
    "import warnings\n",
    "\n",
    "# ignore future warnings \n",
    "warnings.filterwarnings(\"ignore\")\n",
    "warnings.simplefilter(action='ignore', category=FutureWarning)"
   ]
  },
  {
   "cell_type": "markdown",
   "id": "89a1c496",
   "metadata": {},
   "source": [
    "## Question 1 [5 marks]\n",
    "**Q1.1 A.** Read the dataset \"amphibians1.csv\" dataset into a pandas DataFrame called `data1`. Create a function called `encode` that takes in the features of the dataset as a pandas DataFrame and uses one-hot encoding to convert all nominal (and ordinal) attributes to numeric. You can achieve this by either using `get_dummies()` from the pandas library or `OneHotEncoder()` from the scikit-learn library. **[1 mark]**\n",
    "\n",
    "**B.** For 10 rounds, use `train_test_split` to divide the encoded `data1` into 70% train, 30% test . Set the `random_state` equal to the loop counter. For example in the loop\n",
    "``` python \n",
    "for i in range(10):\n",
    "```\n",
    "make `random_state` equal to `i`. \n",
    "Use the splitted datasets to train and test the following models (use the default hyperparameters): **[1 mark]**\n",
    "- Zero-R\n",
    "- Gaussian Naive Bayes\n",
    "- Multinomial Naive Bayes\n",
    "- Bernoulli Naive Bayes model\n",
    "\n",
    "Report the average accuracy over the 10 runs."
   ]
  },
  {
   "cell_type": "code",
   "execution_count": 23,
   "id": "9c33a9d2",
   "metadata": {},
   "outputs": [],
   "source": [
    "data1 = pd.read_csv(\"amphibians1.csv\")\n",
    "\n",
    "y1 = data1.iloc[:, -1]\n",
    "X1 = data1.iloc[:, :-1]"
   ]
  },
  {
   "cell_type": "code",
   "execution_count": 24,
   "id": "588459ef-a861-4793-8c92-2f57bab4bb10",
   "metadata": {},
   "outputs": [],
   "source": [
    "# preprocessing \n",
    "def encode(X):\n",
    "    # your code here\n",
    "    col = ['TR', 'VR', 'SUR1', 'SUR2', 'SUR3', 'UR', 'FR', 'MR', 'CR', 'RR', 'BR']\n",
    "\n",
    "    X = pd.get_dummies(X, columns=col)\n",
    "    \n",
    "    return X"
   ]
  },
  {
   "cell_type": "code",
   "execution_count": 25,
   "id": "07e3d435-af7a-4bd4-b481-f22b1c7550a2",
   "metadata": {},
   "outputs": [
    {
     "name": "stdout",
     "output_type": "stream",
     "text": [
      "Accuracy of ZeroR: 0.59\n",
      "Accuracy of GNB: 0.4\n",
      "Accuracy of MNB: 0.35\n",
      "Accuracy of BNB: 0.63\n"
     ]
    }
   ],
   "source": [
    "ZeroR_Acc_1 = []\n",
    "GNB_Acc_1 = []\n",
    "MNB_Acc_1 = []\n",
    "BNB_Acc_1 = []\n",
    "\n",
    "# your code here\n",
    "enc_x = encode(X1)\n",
    "\n",
    "for i in range(10):\n",
    "    X_train, X_test, y_train, y_test = train_test_split(enc_x, y1, test_size=0.3, random_state=i)\n",
    "\n",
    "    # define\n",
    "    ZeroR = DummyClassifier(strategy='most_frequent')\n",
    "    gnb = GaussianNB()\n",
    "    mnb = MultinomialNB()\n",
    "    bnb = BernoulliNB()\n",
    "\n",
    "    # train\n",
    "    ZeroR.fit(X_train, y_train)\n",
    "    gnb.fit(X_train, y_train)\n",
    "    mnb.fit(X_train, y_train)\n",
    "    bnb.fit(X_train, y_train)\n",
    "\n",
    "    # predict\n",
    "    y_pred_ZeroR = ZeroR.predict(X_test)\n",
    "    y_pred_GNB = gnb.predict(X_test)\n",
    "    y_pred_MNB = mnb.predict(X_test)\n",
    "    y_pred_BNB = bnb.predict(X_test)\n",
    "\n",
    "    # accuracy\n",
    "    ZeroR_Acc_1.append(accuracy_score(y_test, y_pred_ZeroR))\n",
    "    GNB_Acc_1.append(accuracy_score(y_test, y_pred_GNB))\n",
    "    MNB_Acc_1.append(accuracy_score(y_test, y_pred_MNB))\n",
    "    BNB_Acc_1.append(accuracy_score(y_test, y_pred_BNB))\n",
    "\n",
    "\n",
    "print(\"Accuracy of ZeroR:\", np.mean(ZeroR_Acc_1).round(2))\n",
    "print(\"Accuracy of GNB:\", np.mean(GNB_Acc_1).round(2))\n",
    "print(\"Accuracy of MNB:\", np.mean(MNB_Acc_1).round(2))\n",
    "print(\"Accuracy of BNB:\", np.mean(BNB_Acc_1).round(2))\n"
   ]
  },
  {
   "cell_type": "markdown",
   "id": "b8c394c5",
   "metadata": {},
   "source": [
    "**Q1.2** After comparing the performance of the different models on the classification task, please comment on any differences or lack of differences you observe between the models. **[3 marks]**</br>\n",
    "*NOTE: You may need to compare other performance metrics of these models, such as precision and recall of each class label, to gain a better understanding of their performance. You can use the `classification_report` from `sklearn.metrics` for this matter and check the performance of the classifiers for one round.*"
   ]
  },
  {
   "cell_type": "code",
   "execution_count": 26,
   "id": "204343b2",
   "metadata": {},
   "outputs": [
    {
     "name": "stdout",
     "output_type": "stream",
     "text": [
      "Classification Report of ZeroR:\n",
      "                   precision    recall  f1-score   support\n",
      "\n",
      "       Brown frog       0.00      0.00      0.00        18\n",
      "      Common toad       0.00      0.00      0.00         2\n",
      "Fire-bellied toad       0.00      0.00      0.00         1\n",
      "       Green frog       0.59      1.00      0.74        32\n",
      "        Tree frog       0.00      0.00      0.00         1\n",
      "\n",
      "         accuracy                           0.59        54\n",
      "        macro avg       0.12      0.20      0.15        54\n",
      "     weighted avg       0.35      0.59      0.44        54\n",
      "\n"
     ]
    }
   ],
   "source": [
    "print(\"Classification Report of ZeroR:\")\n",
    "print(classification_report(y_test, y_pred_ZeroR))"
   ]
  },
  {
   "cell_type": "code",
   "execution_count": 27,
   "id": "548ee167",
   "metadata": {},
   "outputs": [
    {
     "name": "stdout",
     "output_type": "stream",
     "text": [
      "Classification Report of GNB:\n",
      "                   precision    recall  f1-score   support\n",
      "\n",
      "       Brown frog       0.41      0.39      0.40        18\n",
      "      Common toad       0.25      0.50      0.33         2\n",
      "Fire-bellied toad       0.00      0.00      0.00         1\n",
      "       Green frog       0.75      0.47      0.58        32\n",
      "        Tree frog       0.00      0.00      0.00         1\n",
      "\n",
      "         accuracy                           0.43        54\n",
      "        macro avg       0.28      0.27      0.26        54\n",
      "     weighted avg       0.59      0.43      0.49        54\n",
      "\n"
     ]
    }
   ],
   "source": [
    "print(\"Classification Report of GNB:\")\n",
    "print(classification_report(y_test, y_pred_GNB))"
   ]
  },
  {
   "cell_type": "code",
   "execution_count": 28,
   "id": "9a2517b1",
   "metadata": {},
   "outputs": [
    {
     "name": "stdout",
     "output_type": "stream",
     "text": [
      "Classification Report of MNB:\n",
      "                   precision    recall  f1-score   support\n",
      "\n",
      "       Brown frog       0.45      0.28      0.34        18\n",
      "      Common toad       0.08      0.50      0.13         2\n",
      "Fire-bellied toad       0.00      0.00      0.00         1\n",
      "       Green frog       0.71      0.38      0.49        32\n",
      "        Tree frog       0.00      0.00      0.00         1\n",
      "\n",
      "         accuracy                           0.33        54\n",
      "        macro avg       0.25      0.23      0.19        54\n",
      "     weighted avg       0.57      0.33      0.41        54\n",
      "\n"
     ]
    }
   ],
   "source": [
    "print(\"Classification Report of MNB:\")\n",
    "print(classification_report(y_test, y_pred_MNB))"
   ]
  },
  {
   "cell_type": "code",
   "execution_count": 29,
   "id": "c1ead51d",
   "metadata": {},
   "outputs": [
    {
     "name": "stdout",
     "output_type": "stream",
     "text": [
      "Classification Report of BNB:\n",
      "                   precision    recall  f1-score   support\n",
      "\n",
      "       Brown frog       0.42      0.44      0.43        18\n",
      "      Common toad       0.00      0.00      0.00         2\n",
      "Fire-bellied toad       0.00      0.00      0.00         1\n",
      "       Green frog       0.62      0.66      0.64        32\n",
      "        Tree frog       0.00      0.00      0.00         1\n",
      "\n",
      "         accuracy                           0.54        54\n",
      "        macro avg       0.21      0.22      0.21        54\n",
      "     weighted avg       0.51      0.54      0.52        54\n",
      "\n"
     ]
    }
   ],
   "source": [
    "print(\"Classification Report of BNB:\")\n",
    "print(classification_report(y_test, y_pred_BNB))"
   ]
  },
  {
   "attachments": {},
   "cell_type": "markdown",
   "id": "5f3936c2-b548-4825-8028-c5b3f3800b63",
   "metadata": {},
   "source": [
    "**Answer:**\n",
    "\n",
    "**Accuracy & macro average & weighted average:**\n",
    "\n",
    "The Zero-R model got the highest accuracy (59%) among these four models. However, in macro average and weighted average is not the hightest, which means the reference value is not very high.\n",
    "macro-averaging score when all classes need to be treated equally to evaluate the overall performance of the classifier with regard to the most frequent class labels.\n",
    "weighted macro-averaging score in case of class imbalances (different number of instances related to different class labels).\n",
    "GNB model got the highest macro average, BNB model got the highest weighted average.\n",
    "\n",
    "**precision  &   recall & f1-score:**\n",
    "\n",
    "<!-- Combine the precison, recall and f1-score, GNB model performed the best.  -->\n",
    "The Zero-R model only get 0.74 in f1-score in one class (\"Green frog\"), and other classes are 0, which means this model is not good for other classes. Thus, we can conclude that Zero-R model is not good for this dataset.\n",
    "The BNB model only gets 0.64 in f1-score in class \"Green frog\", 0.43 in class \"Brown frog\". The other classes are 0, which means this model is not good for other classes. Thus, we can conclude that BNB model is not good for this dataset, however, it performs better than Zero-R model.\n",
    "Compare GNB model and MNB model, we can discover that they got f1-score in same three classes (\"Green frog\", \"Brown frog\", \"Common toad\"), and other classes are 0. It still means these two models can be improved, but it performs better than Zero-R model and BNB model.\n",
    "However, GNB model got higher f1-score than MNB model. \n",
    "\n",
    "Therefore, we can conclude that GNB model is the best model among these four models for this dataset."
   ]
  },
  {
   "cell_type": "markdown",
   "id": "21ec6a7b",
   "metadata": {},
   "source": [
    "## Question 2 [5 marks]\n",
    "\n",
    "**Q2.1.** Divide the `data1` into 70% train and 30% test splits for 10 rounds, set the `random_state` equal to the loop counter. Then, train and test **K-Nearest Neighbor algorithms (with K values of 1, 5, and 20)**, using Euclidean distance as the distance metric and maximum vote (no weighting) to determine the label. Finally, report the average accuracy of the KNN models over the 10 runs. **[1 mark]**"
   ]
  },
  {
   "cell_type": "code",
   "execution_count": 30,
   "id": "1ef637cf",
   "metadata": {},
   "outputs": [
    {
     "name": "stdout",
     "output_type": "stream",
     "text": [
      "Accuracy of KNN(1): 0.56\n",
      "Accuracy of KNN(5): 0.6\n",
      "Accuracy of KNN(20): 0.61\n"
     ]
    }
   ],
   "source": [
    "KNN1_Acc_1 = []\n",
    "KNN5_Acc_1 = []\n",
    "KNN20_Acc_1 = []\n",
    "\n",
    "# your code here\n",
    "K_value = [1, 5, 20]\n",
    "\n",
    "for i in range(10):\n",
    "    X_train, X_test, y_train, y_test_knn_enc = train_test_split(enc_x, y1, test_size=0.3, random_state=i)\n",
    "    \n",
    "    for k in K_value:\n",
    "        # define\n",
    "        knn = KNeighborsClassifier(n_neighbors=k, p = 2)\n",
    "\n",
    "        # train\n",
    "        knn.fit(X_train, y_train)\n",
    "\n",
    "        # predict\n",
    "        y_pred_KNN = knn.predict(X_test)\n",
    "\n",
    "        # accuracy\n",
    "        if k == 1:\n",
    "            KNN1_Acc_1.append(accuracy_score(y_test_knn_enc, y_pred_KNN))\n",
    "        elif k == 5:\n",
    "            KNN5_Acc_1.append(accuracy_score(y_test_knn_enc, y_pred_KNN))\n",
    "        else:\n",
    "            KNN20_Acc_1.append(accuracy_score(y_test_knn_enc, y_pred_KNN))\n",
    "\n",
    "\n",
    "print(\"Accuracy of KNN(1):\", np.mean(KNN1_Acc_1).round(2))\n",
    "print(\"Accuracy of KNN(5):\", np.mean(KNN5_Acc_1).round(2))\n",
    "print(\"Accuracy of KNN(20):\", np.mean(KNN20_Acc_1).round(2))\n"
   ]
  },
  {
   "cell_type": "markdown",
   "id": "7de4822d",
   "metadata": {},
   "source": [
    "**Q2.2.A.** Create a function called `normalise` that takes the features of the dataset as a pandas DataFrame and scales all numeric attributes to the range of 0-1. You can either use `MinMaxScaler` from the `sklearn.preprocessing` library or implement the normalization step yourself.\n",
    "**B.** For 10 rounds divide the normalised \"data1\" into 70% train and 30% test splits using set the `random_state` equal to the loop counter, and run the KNN models (k=1,5 and 20). Report the average accuracy of your KNN models over these 10 runs. **[1 mark]**"
   ]
  },
  {
   "cell_type": "code",
   "execution_count": 31,
   "id": "ed8e87f9-76bf-44e2-a7bc-305bdcd1616d",
   "metadata": {},
   "outputs": [],
   "source": [
    "from sklearn.preprocessing import MinMaxScaler\n",
    "\n",
    "# preprocessing \n",
    "def normalise(X):\n",
    "    # your code here\n",
    "    X = MinMaxScaler().fit_transform(X)\n",
    "    \n",
    "    return X\n",
    "\n",
    "norm_x = normalise(enc_x)   "
   ]
  },
  {
   "cell_type": "code",
   "execution_count": 32,
   "id": "0859a139",
   "metadata": {},
   "outputs": [
    {
     "name": "stdout",
     "output_type": "stream",
     "text": [
      "Accuracy of KNN(1): 0.54\n",
      "Accuracy of KNN(5): 0.57\n",
      "Accuracy of KNN(20): 0.64\n"
     ]
    }
   ],
   "source": [
    "######################################## POSSIBLE SOLUTION #############################################\n",
    "\n",
    "KNN1_Acc_2 = []\n",
    "KNN5_Acc_2 = []\n",
    "KNN20_Acc_2 = []\n",
    "\n",
    "# your code here\n",
    "\n",
    "for i in range(10):\n",
    "    X_train, X_test, y_train, y_test_knn_norm = train_test_split(norm_x, y1, test_size=0.3, random_state=i)\n",
    "    \n",
    "    for k in K_value:\n",
    "        # define\n",
    "        knn = KNeighborsClassifier(n_neighbors=k, p = 2)\n",
    "\n",
    "        # train\n",
    "        knn.fit(X_train, y_train)\n",
    "\n",
    "        # predict\n",
    "        y_pred_KNN = knn.predict(X_test)\n",
    "\n",
    "        # accuracy\n",
    "        if k == 1:\n",
    "            KNN1_Acc_2.append(accuracy_score(y_test_knn_norm, y_pred_KNN))\n",
    "        elif k == 5:\n",
    "            KNN5_Acc_2.append(accuracy_score(y_test_knn_norm, y_pred_KNN))\n",
    "        else:\n",
    "            KNN20_Acc_2.append(accuracy_score(y_test_knn_norm, y_pred_KNN))\n",
    "\n",
    "\n",
    "\n",
    "            \n",
    "print(\"Accuracy of KNN(1):\", np.mean(KNN1_Acc_2).round(2))\n",
    "print(\"Accuracy of KNN(5):\", np.mean(KNN5_Acc_2).round(2))\n",
    "print(\"Accuracy of KNN(20):\", np.mean(KNN20_Acc_2).round(2))\n"
   ]
  },
  {
   "cell_type": "markdown",
   "id": "8357cd59",
   "metadata": {},
   "source": [
    "**Q2.3** Compare the results of the KNN models (for each value of K) in Q2.1 and Q2.2, and discuss any differences you observe. Did the preprocessing step in Q2.2 improve the performance of the KNN models? Why or why not? **[3 marks]**"
   ]
  },
  {
   "cell_type": "code",
   "execution_count": 33,
   "id": "5240e100",
   "metadata": {},
   "outputs": [
    {
     "data": {
      "image/png": "[encoded data removed]",
      "text/plain": [
       "<Figure size 1000x500 with 2 Axes>"
      ]
     },
     "metadata": {},
     "output_type": "display_data"
    }
   ],
   "source": [
    "y1_numeric, _ = pd.factorize(y1)\n",
    "\n",
    "plt.figure(figsize=(10, 5))\n",
    "\n",
    "plt.subplot(1, 2, 1)\n",
    "plt.scatter(enc_x.iloc[:, 0], enc_x.iloc[:, 1], c=y1_numeric)\n",
    "plt.title(\"enc_x\")\n",
    "\n",
    "plt.subplot(1, 2, 2)\n",
    "plt.scatter(norm_x[:, 0], norm_x[:, 1], c=y1_numeric)\n",
    "plt.title(\"norm_x\")\n",
    "\n",
    "plt.show()"
   ]
  },
  {
   "attachments": {},
   "cell_type": "markdown",
   "id": "d6dc7597",
   "metadata": {},
   "source": [
    "**Answer:**\n",
    "\n",
    "After we normalized the data, we can not see there is an improve in the accuracy of KNN models. \n",
    "\n",
    "Reasons: After we normalized the data, the distribution of the data is actually not changed a lot. (details in figure enc_x and norm_x)\n",
    "If we apply the KNN model on the normalized data, and still using Euclidean disrance (L2 distance) with no weighting, the result won't change a lot.\n",
    "That is why we can not see there is no an improve in the accuracy of using KNN models in normalized data.\n"
   ]
  },
  {
   "cell_type": "markdown",
   "id": "6533050f",
   "metadata": {},
   "source": [
    "## Question 3 [5 marks]\n",
    "\n",
    "**Q3.1.** Read the \"amphibians2.csv\" into `data2` and  \"amphibians1.csv\" into `data1_2`. Observe any differences in the values of the feature \"SR\" between these two datasets, and explain why you think these changes were made (provide your hypothesis). Use diagrams such a histograms or boxplots to check the distribution of the feature 'SR' before and after the change. **[2 marks]**"
   ]
  },
  {
   "cell_type": "code",
   "execution_count": 34,
   "id": "cf383bfa",
   "metadata": {},
   "outputs": [],
   "source": [
    "data2 = pd.read_csv(\"amphibians2.csv\")\n",
    "data1_2 = pd.read_csv(\"amphibians1.csv\")"
   ]
  },
  {
   "cell_type": "code",
   "execution_count": 35,
   "id": "93740fd5-3ec4-4b50-8d0c-def8367fa0ed",
   "metadata": {},
   "outputs": [
    {
     "data": {
      "image/png": "[encoded data removed]",
      "text/plain": [
       "<Figure size 1000x500 with 2 Axes>"
      ]
     },
     "metadata": {},
     "output_type": "display_data"
    }
   ],
   "source": [
    "# your code here\n",
    "data2_SR = data2.iloc[:, 0]\n",
    "data1_2_SR = data1_2.iloc[:, 0]\n",
    "\n",
    "plt.figure(figsize=(10, 5))\n",
    "plt.subplot(1, 2, 1)\n",
    "plt.hist(data2_SR, bins=20)\n",
    "plt.title(\"data2 - SR\")\n",
    "plt.subplot(1, 2, 2)\n",
    "plt.hist(data1_2_SR, bins=20)\n",
    "plt.title(\"data1_2 - SR\")\n",
    "plt.show()"
   ]
  },
  {
   "attachments": {},
   "cell_type": "markdown",
   "id": "76bfddfd-cc6b-47d7-9d26-a3d699ac5d10",
   "metadata": {},
   "source": [
    "**Answer:**\n",
    "\n"
   ]
  },
  {
   "cell_type": "markdown",
   "id": "ec583024",
   "metadata": {},
   "source": [
    "**Q3.2** \n",
    "For 10 rounds plit the `data2` and `data1_2` dataset into 70% training and 30% testing sets use the `random_state` equal to the loop counter. Train and test two **decision tree** classifier with all default hyper-parameters: one with `data1_2` and one with `data2`. Calculate and report the average accuracy of both models for 10 runs. **[1 mark]**"
   ]
  },
  {
   "cell_type": "code",
   "execution_count": 36,
   "id": "fca15dcd",
   "metadata": {},
   "outputs": [],
   "source": [
    "y1_2 = data1_2.iloc[:, -1]\n",
    "X1_2 =  data1_2.iloc[:, :-1]\n",
    "\n",
    "y2 = data2.iloc[:, -1]\n",
    "X2 = data2.iloc[:, :-1]"
   ]
  },
  {
   "cell_type": "code",
   "execution_count": 37,
   "id": "18064b7e-be1e-40ba-9197-100b8c236ce9",
   "metadata": {},
   "outputs": [
    {
     "name": "stdout",
     "output_type": "stream",
     "text": [
      "Accuracy of Decision Tree \tdata1_2: 0.53 \tdata2: 0.53\n"
     ]
    }
   ],
   "source": [
    "DT_Acc_1_2 = []\n",
    "DT_Acc_2 = []\n",
    "\n",
    "# your code here\n",
    "DT1 = DecisionTreeClassifier(random_state=0)\n",
    "DT2 = DecisionTreeClassifier(random_state=0)\n",
    "\n",
    "for i in range(10):\n",
    "    X_train, X_test, y_train, y_test_1 = train_test_split(X1_2, y1_2, test_size=0.3, random_state=i)\n",
    "    DT1.fit(X_train, y_train)\n",
    "    y_pred_DT1 = DT1.predict(X_test)\n",
    "    DT_Acc_1_2.append(accuracy_score(y_test_1, y_pred_DT1))\n",
    "    \n",
    "    X_train, X_test, y_train, y_test_2 = train_test_split(X2, y2, test_size=0.3, random_state=i)\n",
    "    DT2.fit(X_train, y_train)\n",
    "    y_pred_DT2 = DT2.predict(X_test)\n",
    "    DT_Acc_2.append(accuracy_score(y_test_2, y_pred_DT2))\n",
    "\n",
    "\n",
    "print(\"Accuracy of Decision Tree \\tdata1_2:\", np.mean(DT_Acc_1_2).round(2),\"\\tdata2:\", np.mean(DT_Acc_2).round(2))"
   ]
  },
  {
   "cell_type": "markdown",
   "id": "f82dd7fb",
   "metadata": {},
   "source": [
    "**Q3.3** Compare and analyze the performance of the **decision tree** classifier on `data1_2` and `data2`. Discuss any differences or similarities that you observe in the performance of these models. Does the change made to the dataset improve the performance of the model? Explain why or why not and elaborate on your hypothesis from Q3.1. **[2 marks]** </br>*NOTE:  You may need to compare other performance metrics of these models, such as precision and recall of each class label, to gain a better understanding of their performance. You can use the `classification_report` from `sklearn.metrics` for this matter and check the performance of the classifiers for one round.*"
   ]
  },
  {
   "cell_type": "code",
   "execution_count": 38,
   "id": "6af7d418",
   "metadata": {},
   "outputs": [
    {
     "name": "stdout",
     "output_type": "stream",
     "text": [
      "Classification Report of Decision Tree \tdata1_2:\n",
      "                   precision    recall  f1-score   support\n",
      "\n",
      "       Brown frog       0.36      0.56      0.43        18\n",
      "      Common toad       0.00      0.00      0.00         2\n",
      "Fire-bellied toad       0.00      0.00      0.00         1\n",
      "       Green frog       0.61      0.44      0.51        32\n",
      "        Tree frog       0.00      0.00      0.00         1\n",
      "\n",
      "         accuracy                           0.44        54\n",
      "        macro avg       0.19      0.20      0.19        54\n",
      "     weighted avg       0.48      0.44      0.45        54\n",
      "\n"
     ]
    }
   ],
   "source": [
    "print(\"Classification Report of Decision Tree \\tdata1_2:\")\n",
    "print(classification_report(y_test_1, y_pred_DT1))"
   ]
  },
  {
   "cell_type": "code",
   "execution_count": 39,
   "id": "91ebb34b",
   "metadata": {},
   "outputs": [
    {
     "name": "stdout",
     "output_type": "stream",
     "text": [
      "Classification Report of Decision Tree \tdata2:\n",
      "                   precision    recall  f1-score   support\n",
      "\n",
      "       Brown frog       0.54      0.37      0.44        19\n",
      "      Common toad       0.50      0.20      0.29         5\n",
      "Fire-bellied toad       0.00      0.00      0.00         1\n",
      "       Green frog       0.55      0.67      0.60        27\n",
      "        Tree frog       0.00      0.00      0.00         1\n",
      "\n",
      "         accuracy                           0.49        53\n",
      "        macro avg       0.32      0.25      0.26        53\n",
      "     weighted avg       0.52      0.49      0.49        53\n",
      "\n"
     ]
    }
   ],
   "source": [
    "print(\"Classification Report of Decision Tree \\tdata2:\")\n",
    "print(classification_report(y_test_2, y_pred_DT2))"
   ]
  },
  {
   "attachments": {},
   "cell_type": "markdown",
   "id": "8b0e6985",
   "metadata": {},
   "source": [
    "<!-- *Answer Here* -->\n",
    "**Answer:**\n",
    "\n"
   ]
  },
  {
   "cell_type": "markdown",
   "id": "dc2419db",
   "metadata": {},
   "source": [
    "## Question 4\n",
    "\n",
    "**Q4.1** Read the \"amphibians3.csv\" into data3. Use histogram diagrams to compare the distribution of class labels between `data1` and `data3`. Observe the changes on the distribution of the class labels and explain in your own words why you think these changes have been made.**[2 marks]**"
   ]
  },
  {
   "cell_type": "code",
   "execution_count": 40,
   "id": "8ad0ce1b",
   "metadata": {},
   "outputs": [
    {
     "data": {
      "image/png": "[encoded data removed]",
      "text/plain": [
       "<Figure size 1000x500 with 2 Axes>"
      ]
     },
     "metadata": {},
     "output_type": "display_data"
    }
   ],
   "source": [
    "data3 = pd.read_csv(\"amphibians3.csv\")\n",
    "\n",
    "# your code here\n",
    "data1_class = data1.iloc[:, -1]\n",
    "data3_class = data3.iloc[:, -1]\n",
    "\n",
    "plt.figure(figsize=(10, 5))\n",
    "plt.subplot(1, 2, 1)\n",
    "plt.hist(data1_class, bins=11)\n",
    "plt.title(\"data1 - class\")\n",
    "plt.subplot(1, 2, 2)\n",
    "plt.hist(data3_class, bins=11)\n",
    "plt.title(\"data3 - class\")\n",
    "plt.show()"
   ]
  },
  {
   "cell_type": "markdown",
   "id": "1f81f752",
   "metadata": {},
   "source": [
    "**Q4.2** Use the same encoding technique as used in Q1.1 to encode the `data3` dataset and apply the same normalization technique as used in Q2.1 to normalise the data. For 10 rounds, split the encoded and normalized data3 into 70% training and 30% testing sets,  set the `random_state` equal to the loop counter. Train and test the following models using `data3`: **[1 mark]**\n",
    "- Zero-R\n",
    "- K-Nearest Neighbour (K = 1, 5 and 20) \n",
    "\n",
    "Calculate the average accuracy of the models for 10 runs and report the results.\n"
   ]
  },
  {
   "cell_type": "code",
   "execution_count": 41,
   "id": "b9e5ba46",
   "metadata": {},
   "outputs": [],
   "source": [
    "y3 = data3.iloc[:, -1]\n",
    "X3 = data3.iloc[:, :-1]\n",
    "\n",
    "enc_X3 = encode(X3)\n",
    "norm_enc_X3 = normalise(enc_X3)"
   ]
  },
  {
   "cell_type": "code",
   "execution_count": 42,
   "id": "5b9fad1b-d2fc-4adc-818b-9cee1c204bc7",
   "metadata": {},
   "outputs": [
    {
     "name": "stdout",
     "output_type": "stream",
     "text": [
      "Accuracy of ZeroR: \tdata1: 0.59 \tdata3: 0.14\n",
      "Accuracy of KNN(1): \tdata1: 0.54 \tdata3: 0.76\n",
      "Accuracy of KNN(5): \tdata1: 0.57 \tdata3: 0.65\n",
      "Accuracy of KNN(20): \tdata1: 0.64 \tdata3: 0.44\n"
     ]
    }
   ],
   "source": [
    "ZeroR_Acc_3 = []\n",
    "KNN1_Acc_3 = []\n",
    "KNN5_Acc_3 = []\n",
    "KNN20_Acc_3 = []\n",
    "\n",
    "# your code here\n",
    "for i in range(10):\n",
    "    X_train, X_test, y_train, y_test = train_test_split(norm_enc_X3, y3, test_size=0.3, random_state=i)\n",
    "    \n",
    "    # ZeroR\n",
    "    ZeroR = DummyClassifier(strategy=\"most_frequent\")\n",
    "    ZeroR.fit(X_train, y_train)\n",
    "    y_pred_ZeroR = ZeroR.predict(X_test)\n",
    "    ZeroR_Acc_3.append(accuracy_score(y_test, y_pred_ZeroR))\n",
    "\n",
    "    for k in K_value:\n",
    "        # define\n",
    "        knn = KNeighborsClassifier(n_neighbors=k)\n",
    "\n",
    "        # train\n",
    "        knn.fit(X_train, y_train)\n",
    "\n",
    "        # predict\n",
    "        y_pred_KNN = knn.predict(X_test)\n",
    "\n",
    "        # accuracy\n",
    "        if k == 1:\n",
    "            KNN1_Acc_3.append(accuracy_score(y_test, y_pred_KNN))\n",
    "        elif k == 5:\n",
    "            KNN5_Acc_3.append(accuracy_score(y_test, y_pred_KNN))\n",
    "        else:\n",
    "            KNN20_Acc_3.append(accuracy_score(y_test, y_pred_KNN))\n",
    "\n",
    "\n",
    "\n",
    "print(\"Accuracy of ZeroR: \\tdata1:\", np.mean(ZeroR_Acc_1).round(2),\"\\tdata3:\",np.mean(ZeroR_Acc_3).round(2))\n",
    "print(\"Accuracy of KNN(1): \\tdata1:\", np.mean(KNN1_Acc_2).round(2),\"\\tdata3:\", np.mean(KNN1_Acc_3).round(2))\n",
    "print(\"Accuracy of KNN(5): \\tdata1:\", np.mean(KNN5_Acc_2).round(2),\"\\tdata3:\", np.mean(KNN5_Acc_3).round(2))\n",
    "print(\"Accuracy of KNN(20): \\tdata1:\", np.mean(KNN20_Acc_2).round(2),\"\\tdata3:\", np.mean(KNN20_Acc_3).round(2))"
   ]
  },
  {
   "cell_type": "markdown",
   "id": "c4249859",
   "metadata": {},
   "source": [
    "**Q4.3** Discuss any differences you observe between the results of these KNN classifiers on data1 (Q2.2) and data3. **[2 marks]** </br>*NOTE:  You may need to compare other performance metrics of these models, such as precision and recall of each class label, to gain a better understanding of their performance. You can use the `classification_report` from `sklearn.metrics` for this matter and check the performance of the classifiers for one round.* "
   ]
  },
  {
   "cell_type": "code",
   "execution_count": 43,
   "id": "54e3f5c4",
   "metadata": {},
   "outputs": [
    {
     "name": "stdout",
     "output_type": "stream",
     "text": [
      "Classification Report of KNN(1) \tdata1:\n",
      "                   precision    recall  f1-score   support\n",
      "\n",
      "       Brown frog       0.69      0.53      0.60        17\n",
      "      Common toad       0.17      1.00      0.29         1\n",
      "Fire-bellied toad       0.00      0.00      0.00         0\n",
      "       Green frog       0.77      0.71      0.74        34\n",
      "        Tree frog       0.00      0.00      0.00         2\n",
      "\n",
      "         accuracy                           0.63        54\n",
      "        macro avg       0.33      0.45      0.32        54\n",
      "     weighted avg       0.71      0.63      0.66        54\n",
      "\n",
      "Classification Report of KNN(5) \tdata1:\n",
      "                   precision    recall  f1-score   support\n",
      "\n",
      "       Brown frog       0.43      0.53      0.47        17\n",
      "      Common toad       0.00      0.00      0.00         1\n",
      "Fire-bellied toad       0.00      0.00      0.00         0\n",
      "       Green frog       0.71      0.65      0.68        34\n",
      "        Tree frog       0.00      0.00      0.00         2\n",
      "\n",
      "         accuracy                           0.57        54\n",
      "        macro avg       0.23      0.24      0.23        54\n",
      "     weighted avg       0.58      0.57      0.58        54\n",
      "\n",
      "Classification Report of KNN(20) \tdata1:\n",
      "              precision    recall  f1-score   support\n",
      "\n",
      "  Brown frog       0.56      0.53      0.55        17\n",
      " Common toad       0.00      0.00      0.00         1\n",
      "  Green frog       0.74      0.82      0.78        34\n",
      "   Tree frog       0.00      0.00      0.00         2\n",
      "\n",
      "    accuracy                           0.69        54\n",
      "   macro avg       0.32      0.34      0.33        54\n",
      "weighted avg       0.64      0.69      0.66        54\n",
      "\n"
     ]
    }
   ],
   "source": [
    "# Data 1\n",
    "X_train, X_test, y_train, y_test = train_test_split(norm_x, y1, test_size=0.3, random_state=0)\n",
    "\n",
    "knn1_data1 = KNeighborsClassifier(n_neighbors=1)\n",
    "y_pred_knn1_data1 = knn1_data1.fit(X_train, y_train).predict(X_test)\n",
    "\n",
    "print(\"Classification Report of KNN(1) \\tdata1:\")\n",
    "print(classification_report(y_test, y_pred_knn1_data1))\n",
    "\n",
    "knn5_data1 = KNeighborsClassifier(n_neighbors=5)\n",
    "y_pred_knn5_data1 = knn5_data1.fit(X_train, y_train).predict(X_test)\n",
    "\n",
    "print(\"Classification Report of KNN(5) \\tdata1:\")\n",
    "print(classification_report(y_test, y_pred_knn5_data1))\n",
    "\n",
    "knn20_data1 = KNeighborsClassifier(n_neighbors=20)\n",
    "y_pred_knn20_data1 = knn20_data1.fit(X_train, y_train).predict(X_test)\n",
    "\n",
    "print(\"Classification Report of KNN(20) \\tdata1:\")\n",
    "print(classification_report(y_test, y_pred_knn20_data1))"
   ]
  },
  {
   "cell_type": "code",
   "execution_count": 44,
   "id": "40c3e99c",
   "metadata": {},
   "outputs": [
    {
     "name": "stdout",
     "output_type": "stream",
     "text": [
      "Classification Report of KNN(1) \tdata3:\n",
      "                   precision    recall  f1-score   support\n",
      "\n",
      "       Brown frog       0.50      0.25      0.33        12\n",
      "      Common toad       0.90      1.00      0.95         9\n",
      "Fire-bellied toad       0.59      1.00      0.74        10\n",
      "       Green frog       0.83      0.45      0.59        11\n",
      "        Tree frog       0.80      1.00      0.89        12\n",
      "\n",
      "         accuracy                           0.72        54\n",
      "        macro avg       0.72      0.74      0.70        54\n",
      "     weighted avg       0.72      0.72      0.69        54\n",
      "\n",
      "Classification Report of KNN(5) \tdata3:\n",
      "                   precision    recall  f1-score   support\n",
      "\n",
      "       Brown frog       0.33      0.08      0.13        12\n",
      "      Common toad       0.90      1.00      0.95         9\n",
      "Fire-bellied toad       0.50      1.00      0.67        10\n",
      "       Green frog       0.75      0.27      0.40        11\n",
      "        Tree frog       0.71      1.00      0.83        12\n",
      "\n",
      "         accuracy                           0.65        54\n",
      "        macro avg       0.64      0.67      0.59        54\n",
      "     weighted avg       0.63      0.65      0.58        54\n",
      "\n",
      "Classification Report of KNN(20) \tdata3:\n",
      "                   precision    recall  f1-score   support\n",
      "\n",
      "       Brown frog       0.00      0.00      0.00        12\n",
      "      Common toad       0.50      0.44      0.47         9\n",
      "Fire-bellied toad       0.36      1.00      0.53        10\n",
      "       Green frog       0.00      0.00      0.00        11\n",
      "        Tree frog       0.62      0.83      0.71        12\n",
      "\n",
      "         accuracy                           0.44        54\n",
      "        macro avg       0.30      0.46      0.34        54\n",
      "     weighted avg       0.29      0.44      0.33        54\n",
      "\n"
     ]
    }
   ],
   "source": [
    "# Data 3\n",
    "X_train, X_test, y_train, y_test = train_test_split(norm_enc_X3, y3, test_size=0.3, random_state=0)\n",
    "\n",
    "knn1_data3 = KNeighborsClassifier(n_neighbors=1)\n",
    "y_pred_knn1_data3 = knn1_data3.fit(X_train, y_train).predict(X_test)\n",
    "\n",
    "print(\"Classification Report of KNN(1) \\tdata3:\")\n",
    "print(classification_report(y_test, y_pred_knn1_data3))\n",
    "\n",
    "knn5_data3 = KNeighborsClassifier(n_neighbors=5)\n",
    "y_pred_knn5_data3 = knn5_data3.fit(X_train, y_train).predict(X_test)\n",
    "\n",
    "print(\"Classification Report of KNN(5) \\tdata3:\")\n",
    "print(classification_report(y_test, y_pred_knn5_data3))\n",
    "\n",
    "knn20_data3 = KNeighborsClassifier(n_neighbors=20)\n",
    "y_pred_knn20_data3 = knn20_data3.fit(X_train, y_train).predict(X_test)\n",
    "\n",
    "print(\"Classification Report of KNN(20) \\tdata3:\")\n",
    "print(classification_report(y_test, y_pred_knn20_data3))"
   ]
  },
  {
   "cell_type": "code",
   "execution_count": 45,
   "id": "9b6c2ffd",
   "metadata": {},
   "outputs": [
    {
     "data": {
      "image/png": "[encoded data removed]",
      "text/plain": [
       "<Figure size 1000x500 with 2 Axes>"
      ]
     },
     "metadata": {},
     "output_type": "display_data"
    }
   ],
   "source": [
    "y3_numeric, _ = pd.factorize(y3)\n",
    "\n",
    "\n",
    "plt.figure(figsize=(10, 5))\n",
    "plt.subplot(1, 2, 1)\n",
    "plt.scatter(norm_enc_X3[:, 0], norm_enc_X3[:, 1], c=y3_numeric)\n",
    "plt.title(\"norm_enc_X3\")\n",
    "\n",
    "plt.subplot(1, 2, 2)\n",
    "plt.scatter(norm_x[:, 0], norm_x[:, 1], c=y1_numeric)\n",
    "plt.title(\"norm_X1\")\n",
    "plt.show()"
   ]
  },
  {
   "attachments": {},
   "cell_type": "markdown",
   "id": "7067969a",
   "metadata": {},
   "source": [
    "**Answer:**\n",
    "\n",
    "I discover the accuracy (including macro avg and weighted avg) of KNN models on data3 is higher than data1 when k is 1 & 5. By the way, in precision, recall and f1-score, the KNN model also gets a higher performance on data3 than data1 when k is 1 & 5. However, when k is 20, the accuracy (including macro avg and weighted avg) of the KNN model on data3 is lower than data1.\n",
    "\n",
    "After plotting the data3 and data1 (after encoding and normalising), we can easily see that the distribution of the data3 is more concentrated than data1.\n",
    "When k = 1 & 5, the precision, recall and f1-score of the KNN model on data3 is higher than data1.\n",
    "There are even some classes that get 0, which means the KNN model in data1 can not capture data features well.\n",
    "Therefore, we conclude when k is small, the KNN model will be more sensitive to the nearest neighbour.\n",
    "So, this leads to a better performance in KNN models on data3 than data1 when k is 1 & 5.\n",
    "However, when k becomes larger (20), dense data distribution can not lead to a better performance in KNN models. Because when the k is large enough, dense data distribution will not affect the performance of KNN models."
   ]
  },
  {
   "attachments": {},
   "cell_type": "markdown",
   "id": "55940e72-3414-4dab-be69-96a579354617",
   "metadata": {},
   "source": [
    "# Authorship Declaration:\n",
    "\n",
    "   (1) I certify that the program contained in this submission is completely\n",
    "   my own individual work, except where explicitly noted by comments that\n",
    "   provide details otherwise.  I understand that work that has been developed\n",
    "   by another student, or by me in collaboration with other students,\n",
    "   or by non-students as a result of request, solicitation, or payment,\n",
    "   may not be submitted for assessment in this subject.  I understand that\n",
    "   submitting for assessment work developed by or in collaboration with\n",
    "   other students or non-students constitutes Academic Misconduct, and\n",
    "   may be penalized by mark deductions, or by other penalties determined\n",
    "   via the University of Melbourne Academic Honesty Policy, as described\n",
    "   at https://academicintegrity.unimelb.edu.au.\n",
    "\n",
    "   (2) I also certify that I have not provided a copy of this work in either\n",
    "   softcopy or hardcopy or any other form to any other student, and nor will\n",
    "   I do so until after the marks are released. I understand that providing\n",
    "   my work to other students, regardless of my intention or any undertakings\n",
    "   made to me by that other student, is also Academic Misconduct.\n",
    "\n",
    "   (3) I further understand that providing a copy of the assignment\n",
    "   specification to any form of code authoring or assignment tutoring\n",
    "   service, or drawing the attention of others to such services and code\n",
    "   that may have been made available via such a service, may be regarded\n",
    "   as Student General Misconduct (interfering with the teaching activities\n",
    "   of the University and/or inciting others to commit Academic Misconduct).\n",
    "   I understand that an allegation of Student General Misconduct may arise\n",
    "   regardless of whether or not I personally make use of such solutions\n",
    "   or sought benefit from such actions.\n",
    "\n",
    "   <b>Signed by</b>: Lujie Ma 1391364\n",
    "   \n",
    "   <b>Dated</b>: 6/4/2023"
   ]
  },
  {
   "cell_type": "markdown",
   "id": "cce73318",
   "metadata": {},
   "source": []
  }
 ],
 "metadata": {
  "kernelspec": {
   "display_name": "Python 3 (ipykernel)",
   "language": "python",
   "name": "python3"
  },
  "language_info": {
   "codemirror_mode": {
    "name": "ipython",
    "version": 3
   },
   "file_extension": ".py",
   "mimetype": "text/x-python",
   "name": "python",
   "nbconvert_exporter": "python",
   "pygments_lexer": "ipython3",
   "version": "3.9.10"
  }
 },
 "nbformat": 4,
 "nbformat_minor": 5
}
