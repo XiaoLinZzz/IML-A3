{
 "cells": [
  {
   "cell_type": "code",
   "execution_count": 17,
   "metadata": {},
   "outputs": [],
   "source": [
    "import numpy as np\n",
    "import pandas as pd\n",
    "import matplotlib.pyplot as plt"
   ]
  },
  {
   "attachments": {},
   "cell_type": "markdown",
   "metadata": {},
   "source": [
    "## raw-data"
   ]
  },
  {
   "cell_type": "code",
   "execution_count": 26,
   "metadata": {},
   "outputs": [],
   "source": [
    "train_raw_data = pd.read_csv('raw-data/train.csv')\n",
    "test_raw_data = pd.read_csv('raw-data/test.csv')\n",
    "val_raw_data = pd.read_csv('raw-data/valid.csv')"
   ]
  },
  {
   "cell_type": "code",
   "execution_count": 27,
   "metadata": {},
   "outputs": [
    {
     "data": {
      "text/html": [
       "<div>\n",
       "<style scoped>\n",
       "    .dataframe tbody tr th:only-of-type {\n",
       "        vertical-align: middle;\n",
       "    }\n",
       "\n",
       "    .dataframe tbody tr th {\n",
       "        vertical-align: top;\n",
       "    }\n",
       "\n",
       "    .dataframe thead th {\n",
       "        text-align: right;\n",
       "    }\n",
       "</style>\n",
       "<table border=\"1\" class=\"dataframe\">\n",
       "  <thead>\n",
       "    <tr style=\"text-align: right;\">\n",
       "      <th></th>\n",
       "      <th>job_id</th>\n",
       "      <th>requirements_and_role</th>\n",
       "      <th>salary_bin</th>\n",
       "      <th>mean_salary</th>\n",
       "      <th>gender_code</th>\n",
       "    </tr>\n",
       "  </thead>\n",
       "  <tbody>\n",
       "    <tr>\n",
       "      <th>0</th>\n",
       "      <td>JOB-2019-0015706</td>\n",
       "      <td>role purpose role lead finance team asia offic...</td>\n",
       "      <td>9.0</td>\n",
       "      <td>20833.333333</td>\n",
       "      <td>2.0</td>\n",
       "    </tr>\n",
       "    <tr>\n",
       "      <th>1</th>\n",
       "      <td>JOB-2019-0013345</td>\n",
       "      <td>lead cim team source procure implement maintai...</td>\n",
       "      <td>9.0</td>\n",
       "      <td>10000.000000</td>\n",
       "      <td>2.0</td>\n",
       "    </tr>\n",
       "    <tr>\n",
       "      <th>2</th>\n",
       "      <td>JOB-2019-0011784</td>\n",
       "      <td>responsibilities lecturer contributions go bey...</td>\n",
       "      <td>4.0</td>\n",
       "      <td>4500.000000</td>\n",
       "      <td>2.0</td>\n",
       "    </tr>\n",
       "    <tr>\n",
       "      <th>3</th>\n",
       "      <td>JOB-2019-0013898</td>\n",
       "      <td>preparation welcome kits current savings accou...</td>\n",
       "      <td>6.0</td>\n",
       "      <td>6000.000000</td>\n",
       "      <td>2.0</td>\n",
       "    </tr>\n",
       "    <tr>\n",
       "      <th>4</th>\n",
       "      <td>JOB-2019-0000435</td>\n",
       "      <td>full time rto 18 months</td>\n",
       "      <td>3.0</td>\n",
       "      <td>3750.000000</td>\n",
       "      <td>2.0</td>\n",
       "    </tr>\n",
       "  </tbody>\n",
       "</table>\n",
       "</div>"
      ],
      "text/plain": [
       "             job_id                              requirements_and_role  \\\n",
       "0  JOB-2019-0015706  role purpose role lead finance team asia offic...   \n",
       "1  JOB-2019-0013345  lead cim team source procure implement maintai...   \n",
       "2  JOB-2019-0011784  responsibilities lecturer contributions go bey...   \n",
       "3  JOB-2019-0013898  preparation welcome kits current savings accou...   \n",
       "4  JOB-2019-0000435                            full time rto 18 months   \n",
       "\n",
       "   salary_bin   mean_salary  gender_code  \n",
       "0         9.0  20833.333333          2.0  \n",
       "1         9.0  10000.000000          2.0  \n",
       "2         4.0   4500.000000          2.0  \n",
       "3         6.0   6000.000000          2.0  \n",
       "4         3.0   3750.000000          2.0  "
      ]
     },
     "execution_count": 27,
     "metadata": {},
     "output_type": "execute_result"
    }
   ],
   "source": [
    "train_raw_data.head()"
   ]
  },
  {
   "cell_type": "code",
   "execution_count": 28,
   "metadata": {},
   "outputs": [
    {
     "data": {
      "image/png": "[encoded data removed]",
      "text/plain": [
       "<Figure size 640x480 with 1 Axes>"
      ]
     },
     "metadata": {},
     "output_type": "display_data"
    }
   ],
   "source": [
    "# get the train data mean_salary and plot\n",
    "train_mean_salary = train_raw_data['mean_salary']\n",
    "train_gender_code = train_raw_data['gender_code']\n",
    "\n",
    "# plot the train data\n",
    "plt.plot(train_gender_code, train_mean_salary, 'ro')\n",
    "plt.show()\n",
    "\n",
    "# 0: gender-balancedoccupationcategory\n",
    "# 1: female-dominated occupation category\n",
    "# 2: male-dominated occupation category"
   ]
  },
  {
   "attachments": {},
   "cell_type": "markdown",
   "metadata": {},
   "source": [
    "## embeddings-data\n"
   ]
  },
  {
   "cell_type": "code",
   "execution_count": 30,
   "metadata": {},
   "outputs": [],
   "source": [
    "train_emb_data = np.load('embeddings-data/test-embeddings.npy')"
   ]
  },
  {
   "cell_type": "code",
   "execution_count": null,
   "metadata": {},
   "outputs": [],
   "source": []
  }
 ],
 "metadata": {
  "kernelspec": {
   "display_name": "Python 3",
   "language": "python",
   "name": "python3"
  },
  "language_info": {
   "codemirror_mode": {
    "name": "ipython",
    "version": 3
   },
   "file_extension": ".py",
   "mimetype": "text/x-python",
   "name": "python",
   "nbconvert_exporter": "python",
   "pygments_lexer": "ipython3",
   "version": "3.9.10"
  },
  "orig_nbformat": 4
 },
 "nbformat": 4,
 "nbformat_minor": 2
}
